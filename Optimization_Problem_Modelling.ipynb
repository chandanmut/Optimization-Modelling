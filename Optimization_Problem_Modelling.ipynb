{
 "cells": [
  {
   "cell_type": "markdown",
   "id": "0d765948-efc6-47ac-b5b4-45ec31f23699",
   "metadata": {},
   "source": [
    "**Optimization**"
   ]
  },
  {
   "cell_type": "markdown",
   "id": "59bf46bd-6a6c-4e0a-8d4d-5de0eeead493",
   "metadata": {},
   "source": [
    "**Scenario** <br>\n",
    "A company has a total marketing budget of $10,000 and wants to allocate it across three channels: online advertising, social media marketing, and print advertising.\n",
    "\n",
    "Online Advertising (x): Revenue = 100 * sqrt(x) (simple square root function) <br>\n",
    "Social Media Marketing (y): Revenue = 5 * y * np.log(y + 1) (logarithmic function with saturation) <br>\n",
    "Print Advertising (z): Revenue = 2000 * z / (1 + 0.05 * z) (diminishing returns function)"
   ]
  },
  {
   "cell_type": "code",
   "execution_count": 23,
   "id": "f271095b-246f-4ee8-b763-ece179b8c48b",
   "metadata": {},
   "outputs": [],
   "source": [
    "from scipy.optimize import minimize\n",
    "import numpy as np"
   ]
  },
  {
   "cell_type": "markdown",
   "id": "ddce7a98-3e0d-45cb-99f3-b841754dbea5",
   "metadata": {},
   "source": [
    "Define revenue functions"
   ]
  },
  {
   "cell_type": "code",
   "execution_count": 24,
   "id": "71590019-a95c-4db2-bb3e-1d5e2f3f16e9",
   "metadata": {},
   "outputs": [],
   "source": [
    "rev_online = lambda x: 100*np.sqrt(x)\n",
    "rev_social = lambda y: 5*y*np.log(y+1)\n",
    "rev_print = lambda z: 2000*z/(1+0.05*z)"
   ]
  },
  {
   "cell_type": "markdown",
   "id": "418bf4a6-07a4-4046-b09f-959ad343134d",
   "metadata": {},
   "source": [
    "Define function to calculate total revenue"
   ]
  },
  {
   "cell_type": "code",
   "execution_count": 25,
   "id": "5ef39553-c9fc-4a82-b739-565331148614",
   "metadata": {},
   "outputs": [],
   "source": [
    "def total_rev(allocation):\n",
    "    x,y,z = allocation\n",
    "    total_revenue = -(rev_online(x) + rev_social(y) + rev_print(z))\n",
    "    return total_revenue"
   ]
  },
  {
   "cell_type": "markdown",
   "id": "3ee472fa-a39d-447c-9372-069539124f61",
   "metadata": {},
   "source": [
    "Define function for constraint (budget must be spent entirely)"
   ]
  },
  {
   "cell_type": "code",
   "execution_count": 26,
   "id": "7f09167c-8836-4c2d-b8b4-99765eb9a14e",
   "metadata": {},
   "outputs": [],
   "source": [
    "def constraint_func(allocation):\n",
    "    x,y,z = allocation\n",
    "    return 10000 - (x+y+z)"
   ]
  },
  {
   "cell_type": "markdown",
   "id": "cb995c4b-bd2f-41e4-a881-122826e70c7d",
   "metadata": {},
   "source": [
    "Define initial guesses"
   ]
  },
  {
   "cell_type": "code",
   "execution_count": 27,
   "id": "ba67c4df-0e6a-4a26-a855-72b1721d9309",
   "metadata": {},
   "outputs": [],
   "source": [
    "initial_guess = [3000, 2000, 5000]"
   ]
  },
  {
   "cell_type": "markdown",
   "id": "d1818f5a-a8e6-438a-8ba5-8fb73879e1e6",
   "metadata": {},
   "source": [
    "Define bounds (to ensure non-negative budget allocation)"
   ]
  },
  {
   "cell_type": "code",
   "execution_count": 28,
   "id": "a0716775-b23e-44a1-9ecd-7b4848db8dfb",
   "metadata": {},
   "outputs": [],
   "source": [
    "bounds = ((0,10000), (0,10000), (0,10000))"
   ]
  },
  {
   "cell_type": "markdown",
   "id": "2f6b8a9e-a527-46ea-a8e4-4767a4cc41c7",
   "metadata": {},
   "source": [
    "**Solve Optimization problem**"
   ]
  },
  {
   "cell_type": "code",
   "execution_count": 29,
   "id": "31396bf6-445a-4743-8545-e52f9ce567ab",
   "metadata": {},
   "outputs": [],
   "source": [
    "results = minimize(total_rev, initial_guess, method = 'SLSQP', bounds = bounds, \n",
    "                   constraints = {'type':'eq', 'fun':constraint_func})"
   ]
  },
  {
   "cell_type": "code",
   "execution_count": 30,
   "id": "20ce4157-b8c7-4c0f-b6df-dc192c514bb6",
   "metadata": {},
   "outputs": [
    {
     "data": {
      "text/plain": [
       "scipy.optimize._optimize.OptimizeResult"
      ]
     },
     "execution_count": 30,
     "metadata": {},
     "output_type": "execute_result"
    }
   ],
   "source": [
    "type(results)"
   ]
  },
  {
   "cell_type": "code",
   "execution_count": 31,
   "id": "04413d7c-1751-4fe2-9df7-7850bb6e59e1",
   "metadata": {},
   "outputs": [
    {
     "data": {
      "text/plain": [
       " message: Optimization terminated successfully\n",
       " success: True\n",
       "  status: 0\n",
       "     fun: -488813.4013348305\n",
       "       x: [ 9.613e-01  9.894e+03  1.052e+02]\n",
       "     nit: 34\n",
       "     jac: [-5.100e+01 -5.100e+01 -5.100e+01]\n",
       "    nfev: 165\n",
       "    njev: 34"
      ]
     },
     "execution_count": 31,
     "metadata": {},
     "output_type": "execute_result"
    }
   ],
   "source": [
    "results"
   ]
  },
  {
   "cell_type": "markdown",
   "id": "a7ad9176-e2bf-425a-8118-d6378747993d",
   "metadata": {},
   "source": [
    "Print the optimal allocation and the maximum revenue"
   ]
  },
  {
   "cell_type": "code",
   "execution_count": 32,
   "id": "5940b6a8-5f8e-4985-9e11-714ad76248d5",
   "metadata": {},
   "outputs": [],
   "source": [
    "optimal_allocation = results.x\n",
    "max_revenue = -results.fun"
   ]
  },
  {
   "cell_type": "code",
   "execution_count": 33,
   "id": "d3f141ea-f201-48c4-8e7f-75607c06b06e",
   "metadata": {},
   "outputs": [
    {
     "name": "stdout",
     "output_type": "stream",
     "text": [
      "Optimal allocation:\n",
      "Online Advertising: $0.96\n",
      "Social Media Marketing: $9893.79\n",
      "Print Advertising: $105.25\n",
      "Maximum Revenue: $488813.40\n"
     ]
    }
   ],
   "source": [
    "print(\"Optimal allocation:\")\n",
    "print(f\"Online Advertising: ${optimal_allocation[0]:.2f}\")\n",
    "print(f\"Social Media Marketing: ${optimal_allocation[1]:.2f}\")\n",
    "print(f\"Print Advertising: ${optimal_allocation[2]:.2f}\")\n",
    "print(f\"Maximum Revenue: ${max_revenue:.2f}\")"
   ]
  },
  {
   "cell_type": "code",
   "execution_count": null,
   "id": "78857ea7-85f0-46d8-b5b5-ad5086edc312",
   "metadata": {},
   "outputs": [],
   "source": []
  },
  {
   "cell_type": "code",
   "execution_count": null,
   "id": "2df018fa-21fc-44b1-89dc-d9a930e75890",
   "metadata": {},
   "outputs": [],
   "source": []
  },
  {
   "cell_type": "code",
   "execution_count": null,
   "id": "c3758272-fecf-4fdd-9230-408274df929f",
   "metadata": {},
   "outputs": [],
   "source": []
  },
  {
   "cell_type": "code",
   "execution_count": null,
   "id": "2679cd2c-3141-41dc-a199-3492f60b1dc1",
   "metadata": {},
   "outputs": [],
   "source": []
  }
 ],
 "metadata": {
  "kernelspec": {
   "display_name": "Python 3 (ipykernel)",
   "language": "python",
   "name": "python3"
  },
  "language_info": {
   "codemirror_mode": {
    "name": "ipython",
    "version": 3
   },
   "file_extension": ".py",
   "mimetype": "text/x-python",
   "name": "python",
   "nbconvert_exporter": "python",
   "pygments_lexer": "ipython3",
   "version": "3.12.0"
  }
 },
 "nbformat": 4,
 "nbformat_minor": 5
}
